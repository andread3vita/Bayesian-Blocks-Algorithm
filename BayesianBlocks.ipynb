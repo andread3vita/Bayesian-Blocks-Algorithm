{
 "cells": [
  {
   "attachments": {},
   "cell_type": "markdown",
   "metadata": {},
   "source": [
    "Enrico Lupi 2090596\n",
    "\n",
    "# Bayesian Blocks Algorithm"
   ]
  },
  {
   "cell_type": "code",
   "execution_count": 38,
   "metadata": {
    "vscode": {
     "languageId": "r"
    }
   },
   "outputs": [
    {
     "name": "stderr",
     "output_type": "stream",
     "text": [
      "Warning message:\n",
      "\"package 'tidyverse' was built under R version 4.2.3\"\n"
     ]
    },
    {
     "name": "stderr",
     "output_type": "stream",
     "text": [
      "Warning message:\n",
      "\"package 'tibble' was built under R version 4.2.3\"\n",
      "Warning message:\n",
      "\"package 'tidyr' was built under R version 4.2.3\"\n",
      "Warning message:\n",
      "\"package 'readr' was built under R version 4.2.3\"\n",
      "Warning message:\n",
      "\"package 'purrr' was built under R version 4.2.3\"\n",
      "Warning message:\n",
      "\"package 'dplyr' was built under R version 4.2.3\"\n",
      "Warning message:\n",
      "\"package 'stringr' was built under R version 4.2.3\"\n",
      "Warning message:\n",
      "\"package 'forcats' was built under R version 4.2.3\"\n",
      "Warning message:\n",
      "\"package 'lubridate' was built under R version 4.2.3\"\n",
      "── \u001b[1mAttaching core tidyverse packages\u001b[22m ──────────────────────── tidyverse 2.0.0 ──\n",
      "\u001b[32m✔\u001b[39m \u001b[34mdplyr    \u001b[39m 1.1.1     \u001b[32m✔\u001b[39m \u001b[34mreadr    \u001b[39m 2.1.4\n",
      "\u001b[32m✔\u001b[39m \u001b[34mforcats  \u001b[39m 1.0.0     \u001b[32m✔\u001b[39m \u001b[34mstringr  \u001b[39m 1.5.0\n",
      "\u001b[32m✔\u001b[39m \u001b[34mggplot2  \u001b[39m 3.4.2     \u001b[32m✔\u001b[39m \u001b[34mtibble   \u001b[39m 3.2.1\n",
      "\u001b[32m✔\u001b[39m \u001b[34mlubridate\u001b[39m 1.9.2     \u001b[32m✔\u001b[39m \u001b[34mtidyr    \u001b[39m 1.3.0\n",
      "\u001b[32m✔\u001b[39m \u001b[34mpurrr    \u001b[39m 1.0.1     \n",
      "── \u001b[1mConflicts\u001b[22m ────────────────────────────────────────── tidyverse_conflicts() ──\n",
      "\u001b[31m✖\u001b[39m \u001b[34mdplyr\u001b[39m::\u001b[32mfilter()\u001b[39m masks \u001b[34mstats\u001b[39m::filter()\n",
      "\u001b[31m✖\u001b[39m \u001b[34mdplyr\u001b[39m::\u001b[32mlag()\u001b[39m    masks \u001b[34mstats\u001b[39m::lag()\n",
      "\u001b[36mℹ\u001b[39m Use the conflicted package (\u001b[3m\u001b[34m<http://conflicted.r-lib.org/>\u001b[39m\u001b[23m) to force all conflicts to become errors\n"
     ]
    }
   ],
   "source": [
    "library(tidyverse)"
   ]
  },
  {
   "cell_type": "code",
   "execution_count": 61,
   "metadata": {
    "vscode": {
     "languageId": "r"
    }
   },
   "outputs": [],
   "source": [
    "bayesian_blocks <- function(data,\n",
    "                            weights = NULL,\n",
    "                            Prior = \"calibrated\",\n",
    "                            p0 = 0.05,\n",
    "                            gamma = NULL) {\n",
    "    # Bayesian Blocks Implementation.\n",
    "\n",
    "    # This is a flexible implementation of the Bayesian Blocks algorithm for 1 dimesion.\n",
    "\n",
    "    # Args:\n",
    "    #   data: Input data values (one dimensional, length N). Repeat values are allowed.\n",
    "\n",
    "    #   weights: Weights for data (otherwise assume all data points have a weight of 1).\n",
    "    #            Must be same length as data. Defaults to NULL.\n",
    "\n",
    "    #   prior: Prior on the number of blocks. Options include a uniform prior, a gemetric prior that\n",
    "    #          penalizes an excessive number of blocks and a calibrated prior in order to achieve the\n",
    "    #          specified false-positive rate p0. Deafults to the calibrated one \n",
    "\n",
    "    #   p0: False-positive rate, between 0 and 1. A lower number places a stricter penalty\n",
    "    #       against creating more bin edges, thus reducing the potential for false-positive bin edges. In general,\n",
    "    #       the larger the number of bins, the small the p0 should be to prevent the creation of spurious, jagged\n",
    "    #       bins. Defaults to 0.05.\n",
    "\n",
    "    #   gamma: If specified, then use this gamma to compute the general prior form,\n",
    "    #          p = gamma^N. If gamma is specified, p0 is ignored. Defaults to NULL.\n",
    "\n",
    "    # Returns:\n",
    "    #   Array containing the (N+1) bin edges\n",
    "\n",
    "    # Examples:\n",
    "    #   Unweighted data:\n",
    "\n",
    "    #   >>> d <- rnorm(n=100)\n",
    "    #   >>> bins <- bayesian_blocks(d, p0=0.01)\n",
    "\n",
    "    #   Unweighted data with repeats:\n",
    "\n",
    "    #   >>> d <- rnorm(n=100)\n",
    "    #   >>> d[81:100] <- d[1:20]\n",
    "    #   >>> bins <- bayesian_blocks(d, p0=0.01)\n",
    "\n",
    "    #   Weighted data:\n",
    "\n",
    "    #   >>> d <- rnorm(n=100)\n",
    "    #   >>> w <- runif(n=100, min=1, max=2)\n",
    "    #   >>> bins <- bayesian_blocks(d, w, p0=0.01)\n",
    "\n",
    "    \n",
    "    # validate input data\n",
    "    data <- as.vector(data)\n",
    "\n",
    "    # validate input weights\n",
    "    if (!is.null(weights)) {\n",
    "        weights <- as.vector(weights)\n",
    "    }\n",
    "    else {\n",
    "        # set them to 1 if not given\n",
    "        weights <- rep(1, length(data))\n",
    "    }\n",
    "\n",
    "    # Place data and weights into a DataFrame.\n",
    "    # We want to sort the data array (without losing the associated weights), and combine duplicate\n",
    "    # data points by summing their weights together.\n",
    "    df <- data.frame(data = data, weights = weights) |>\n",
    "          group_by(data) |>\n",
    "          summarise(sum_w = sum(weights))\n",
    "    data <- pull(df, data)\n",
    "    weights <- pull(df, sum_w)\n",
    "\n",
    "    N = length(data)\n",
    "\n",
    "\n",
    "    # create length-(N + 1) array of cell edges\n",
    "    edges <- c(data[1], 0.5 * (data[1:(N-1)] + data[2:N]), data[N])\n",
    "    block_length = data[N] - edges\n",
    "\n",
    "\n",
    "    # arrays to store the best configuration\n",
    "    best <- rep(0, N)\n",
    "    last <- rep(0, N)\n",
    "\n",
    "\n",
    "    # -----------------------------------------------------------------\n",
    "    # Start with first data cell; add one cell at each iteration\n",
    "    # -----------------------------------------------------------------\n",
    "    \n",
    "    for (R in 1:N) {\n",
    "        # Compute fit_vec : fitness of putative last block (end at R)\n",
    "\n",
    "        # T_k: width/duration of each block\n",
    "        T_k <- block_length[1:R] - block_length[R+1]\n",
    "\n",
    "        # N_k: number of elements in each block\n",
    "        N_k <- rev(cumsum(rev(weights[1:R])))\n",
    "\n",
    "        # evaluate fitness function using Cash statistics\n",
    "        fit_vec <- N_k * log(N_k / T_k)\n",
    "\n",
    "        # penalize function with prior\n",
    "        prior <- switch(Prior, \n",
    "                        \"uniform\" = 0,\n",
    "                        \"gamma\" = -log(gamma),\n",
    "                        \"calibrated\" = 4 - log(73.53 * p0 * R**(-0.478)),\n",
    "                        0 # default case\n",
    "                 )\n",
    "        A_R <- fit_vec - prior\n",
    "        A_R[2:R] <- A_R[2:R] + best[1:(R-1)]\n",
    "\n",
    "        i_max = which.max(A_R)\n",
    "        last[R] = i_max\n",
    "        best[R] = A_R[i_max]\n",
    "    }\n",
    "\n",
    "    # -----------------------------------------------------------------\n",
    "    # Now find changepoints by iteratively peeling off the last block\n",
    "    # -----------------------------------------------------------------\n",
    "\n",
    "    change_points = rep(0, N)\n",
    "    i_cp = N + 1\n",
    "    ind = N + 1\n",
    "    repeat {\n",
    "        i_cp <- i_cp - 1\n",
    "        change_points[i_cp] <- ind\n",
    "        if(ind == 1) {\n",
    "            break\n",
    "        }\n",
    "        ind <- last[ind-1]\n",
    "    }\n",
    "    change_points = change_points[i_cp:N]\n",
    "\n",
    "    return(edges[change_points])\n",
    "}"
   ]
  },
  {
   "attachments": {},
   "cell_type": "markdown",
   "metadata": {},
   "source": [
    "Test "
   ]
  },
  {
   "cell_type": "code",
   "execution_count": 65,
   "metadata": {
    "vscode": {
     "languageId": "r"
    }
   },
   "outputs": [],
   "source": [
    "norm_data <- c(rnorm(20000,0,0.8),rnorm(40000,5,0.7),rnorm(40000,7,0.5))\n",
    "N <- length(norm_data)\n",
    "breaks = bayesian_blocks(norm_data, Prior=\"calibrated\", p0 = 0.05)"
   ]
  },
  {
   "cell_type": "code",
   "execution_count": 66,
   "metadata": {
    "vscode": {
     "languageId": "r"
    }
   },
   "outputs": [
    {
     "data": {
      "image/png": "[encoded data removed]",
      "text/plain": [
       "Plot with title \"Histogram of Normal distributed variables\""
      ]
     },
     "metadata": {
      "image/png": {
       "height": 420,
       "width": 420
      }
     },
     "output_type": "display_data"
    }
   ],
   "source": [
    "hist(norm_data,breaks=sqrt(N),freq=FALSE,col=scales::alpha('darkblue',.55),border=F, panel.first=grid(),density=200,\n",
    "     xlab='x',ylab='Density',main=sprintf('Histogram of Normal distributed variables'))\n",
    "hist(norm_data,breaks=breaks,density=200,\n",
    "     freq=FALSE,col=scales::alpha('firebrick3',.5),border=F,add=T)"
   ]
  }
 ],
 "metadata": {
  "kernelspec": {
   "display_name": "R",
   "language": "R",
   "name": "ir"
  },
  "language_info": {
   "codemirror_mode": "r",
   "file_extension": ".r",
   "mimetype": "text/x-r-source",
   "name": "R",
   "pygments_lexer": "r",
   "version": "4.2.2"
  },
  "orig_nbformat": 4
 },
 "nbformat": 4,
 "nbformat_minor": 2
}
