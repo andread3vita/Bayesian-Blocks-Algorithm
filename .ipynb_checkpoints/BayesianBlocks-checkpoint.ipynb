{
 "cells": [
  {
   "cell_type": "markdown",
   "metadata": {},
   "source": [
    "- Andrea De Vita\n",
    "- Enrico Lupi\n",
    "\n",
    "-----------------------\n",
    "\n",
    "# Bayesian Blocks Algorithm"
   ]
  },
  {
   "cell_type": "code",
   "execution_count": 2,
   "metadata": {
    "vscode": {
     "languageId": "r"
    }
   },
   "outputs": [
    {
     "name": "stderr",
     "output_type": "stream",
     "text": [
      "── \u001b[1mAttaching core tidyverse packages\u001b[22m ──────────────────────────────────────────────────────────────── tidyverse 2.0.0 ──\n",
      "\u001b[32m✔\u001b[39m \u001b[34mdplyr    \u001b[39m 1.1.1     \u001b[32m✔\u001b[39m \u001b[34mreadr    \u001b[39m 2.1.4\n",
      "\u001b[32m✔\u001b[39m \u001b[34mforcats  \u001b[39m 1.0.0     \u001b[32m✔\u001b[39m \u001b[34mstringr  \u001b[39m 1.5.0\n",
      "\u001b[32m✔\u001b[39m \u001b[34mggplot2  \u001b[39m 3.4.2     \u001b[32m✔\u001b[39m \u001b[34mtibble   \u001b[39m 3.2.1\n",
      "\u001b[32m✔\u001b[39m \u001b[34mlubridate\u001b[39m 1.9.2     \u001b[32m✔\u001b[39m \u001b[34mtidyr    \u001b[39m 1.3.0\n",
      "\u001b[32m✔\u001b[39m \u001b[34mpurrr    \u001b[39m 1.0.1     \n",
      "── \u001b[1mConflicts\u001b[22m ────────────────────────────────────────────────────────────────────────────────── tidyverse_conflicts() ──\n",
      "\u001b[31m✖\u001b[39m \u001b[34mdplyr\u001b[39m::\u001b[32mfilter()\u001b[39m masks \u001b[34mstats\u001b[39m::filter()\n",
      "\u001b[31m✖\u001b[39m \u001b[34mdplyr\u001b[39m::\u001b[32mlag()\u001b[39m    masks \u001b[34mstats\u001b[39m::lag()\n",
      "\u001b[36mℹ\u001b[39m Use the conflicted package (\u001b[3m\u001b[34m<http://conflicted.r-lib.org/>\u001b[39m\u001b[23m) to force all conflicts to become errors\n"
     ]
    }
   ],
   "source": [
    "options(warn=-1)\n",
    "library(tidyverse)"
   ]
  },
  {
   "cell_type": "markdown",
   "metadata": {},
   "source": [
    "## Abstract\n",
    "\n",
    "The Bayesian Block algorithm exploits a simple non-parametric modeling technique to identify and characterize statistically significant variations, and at the same time suppress the corrupting observational errors. It was originally developed for astronomy applications to detect local variability in time series, but has since found use also in high energy physics as a way to impove the binning of histograms.  \n",
    "\n",
    "After an introduction on the algorithm, we present its implementation in R and quantitatively compare its performance with other commonly used binning methods. Lastly, we apply it to some real physics distributions from nuclear and subnuclear physics to show its usefulness in real-life scenarios. \n"
   ]
  },
  {
   "cell_type": "markdown",
   "metadata": {},
   "source": [
    "## Table of Content\n",
    "\n",
    "1. [Introduction](#introduction) <br>\n",
    "2. [Theory](#theory) <br>\n",
    "    2.1. [Prior](#theory_prior) <br>\n",
    "    2.2. [Data Modes](#theory_data) <br>\n",
    "    &nbsp;&nbsp;&nbsp;&nbsp;&nbsp;&nbsp;2.2.1. [Event data](#theory_data_events) <br>\n",
    "    &nbsp;&nbsp;&nbsp;&nbsp;&nbsp;&nbsp;2.2.2. [Binned data](#theory_data_binned) <br>\n",
    "    &nbsp;&nbsp;&nbsp;&nbsp;&nbsp;&nbsp;2.2.3. [Point measurements](#theory_data_measurements) <br>\n",
    "3. [Algorithm](#algorithm) <br>\n",
    "    3.1. [Algorithm Description](#alg_description) <br>\n",
    "    3.2. [Code Implementation](#alg_implementation) <br>\n",
    "    3.3. [Execution Time](#alg_time) <br>\n",
    "4. [Comparison with Other Binning Methods](#comparison) <br>\n",
    "    4.1. [Metrics](#comp_metrics) <br>\n",
    "    &nbsp;&nbsp;&nbsp;&nbsp;&nbsp;&nbsp;4.1.1. [Average Metric](#comp_metrics_wiggles) <br>\n",
    "    &nbsp;&nbsp;&nbsp;&nbsp;&nbsp;&nbsp;4.1.2. [Average Error Metric](#comp_metrics_avgerror) <br>\n",
    "    4.2. [Results](#comp_results) <br>\n",
    "5. [Applications to Nuclear and Subnuclear Physics](#applications)<br>\n",
    "    5.1. [Radioactive Source](#app_radio) <br>\n",
    "    5.2 [Higgs Physics](#app_higgs) <br>\n",
    "6. [Bibliography](#bibliography) <br>\n"
   ]
  },
  {
   "cell_type": "markdown",
   "metadata": {},
   "source": [
    "## 1. Introduction <a name=\"introduction\"></a>"
   ]
  },
  {
   "cell_type": "markdown",
   "metadata": {},
   "source": [
    "The goal of data analysis is to identify and describe statistically significant variations and features within the observed data. In this pursuit, histograms are a valuable tool for visualizing and examining the data distributions.\n",
    "\n",
    "It is common practice to select a subjective range and bin width for histograms, often driven by the desire to create visually appealing plots. However, objective approaches have been developed to determine the binning based on optimization procedures like *Scott's Rule*, which is ideal for randomly sampled data following a normal distribution. Certain methods, such as *Freedman-Diaconis Rule*, consider the distribution's structure but employ fixed-width bins. Alternatively, some methods aim for each bin to have a similar number of entries, allowing for variable bin widths while still arbitrarily selecting the location of bin edges.\n",
    "\n",
    "The Bayesian Blocks algorithm offers a distinct approach by allowing variable bin widths and determining the bin edges based on the underlying distribution's structure. Originally developed by **Jeffrey D. Scargle** for astronomy applications [[1]](#Scargle), the algorithm was designed to detect and characterize local variability in time series data. However, it can also be applied to other sequential or independent variable data. One of its applications is to enhance histogram representations by allowing flexible bin sizes determined by the data.\n",
    "\n",
    "<div class=\"alert alert-success\" role=\"alert\" style=\"background-color: #ADD8E6; color: #000080;\">\n",
    "  <h4 class=\"alert-heading\">Baysian blocks algorithm</h4>\n",
    "  <p>Operating within a Bayesian framework, the Bayesian Blocks algorithm is a <b>non-parametric modeling technique</b> that aims to find the optimal segmentation of a set of univariate random variables into blocks. Each block consists of consecutive data elements that meet a specific criterion.</p>\n",
    "  <hr>\n",
    "  <p class=\"mb-0\">The primary objective is to differentiate statistically significant features from random observational errors, thereby uncovering local structures in the background data by utilizing the information inherent in the data itself.</p>\n",
    "</div>"
   ]
  },
  {
   "cell_type": "markdown",
   "metadata": {},
   "source": [
    "## 2. Theory <a name=\"theory\"></a>\n",
    "\n",
    "The Bayesian Blocks algorithm is based on fitting a piecewise constant model to the data. The range of the independent variable is divided into sub-intervals called blocks, generally unequal in size, in which the dependent variable is modeled as constant within errors.  \n",
    "Defining the $x$s ending one block and starting the next\n",
    "as change points, the model of the whole observation interval\n",
    "contains these parameters:\n",
    "\n",
    "1. $N_{cp}$: the number of change points\n",
    "2. $X^{cp}_k$: the change-point starting block $k$ (and ending block $k − 1$)\n",
    "3. $Y_k$: the signal amplitude in block $k$\n",
    "\n",
    "for $k = 1, 2, . . .N_{cp}-1$. The first and last data are always considered change points and are therefore not free parameters.  \n",
    "Our simple model for each block has effectively two parameters: the length of the interval spanned by the block, and the signal amplitude, which is treated as a nuisance parameter to be determined after the change points have been located.\n",
    "\n",
    "Of all possible such “step functions” this approach yields the best one by maximizing some goodness-of-fit measure. The fitness function used varies depending on the data mode we are analyzing (see [Sec. 2.2](#theory_data)). The\n",
    "algorithm relies on the fitness being block-additive:\n",
    "\n",
    "$$F[\\mathcal{P} \\left( \\mathcal{T} \\right) ] = \\sum_{k = 1}^{N_{blocks}} f \\left(B_k\\right)$$\n",
    "\n",
    "where $F[\\mathcal{P} \\left( \\mathcal{T} \\right) ]$ is the total fitness of the partition $\\mathcal{P}$ of interval $\\mathcal{T}$ and $f(B_k)$ is the fitness of block $k$. All model parameters are marginalized except for the  block edges.\n",
    "\n"
   ]
  },
  {
   "cell_type": "markdown",
   "metadata": {},
   "source": [
    "### 2.1. Prior <a name=\"theory_prior\"></a>\n",
    "\n",
    "The fitness described above must be modified by a penalty term for the number of blocks. Not assigning an explicit prior probability distribution for the number of blocks amounts to using a flat prior; in most settings, though, it is much more likely a priori that $N_{blocks} \\ll N$ than that $N_{blocks} \\approx N$.\n",
    "For this reason, it is desirable to impose a prior that assigns smaller probability to a large number of blocks. \n",
    "\n",
    "A possible choice is this *geometric prior* [[6]](#Coram) with a single parameter $\\gamma$:\n",
    "\n",
    "$$P(N_{blocks}) = P_0 \\cdot \\gamma^{N_{blocks}} = \\cfrac{1 - \\gamma}{1 - \\gamma^{N}} \\gamma^{N_{blocks}}$$\n",
    "\n",
    "for $0 \\le N_{blocks} \\le N$, and zero otherwise. P_0 is the normalization constant, while $\\gamma$ can be thought of as a free parameter that controls the factor by which $n$ blocks are favored over $n +1$ blocks. Therefore, values of γ larger than 1 almost certainly lead to extreme overfitting.\n",
    "\n",
    "This prior can be easily implemented in the algorithm: its contribution to block fitness can be obtained simply by adding the constant\n",
    "\n",
    "$$\\text{ncp prior} = \\log \\left( \\gamma \\right)$$\n",
    "\n",
    "to the fitness of each block. This parameter can be objectively calibrated as a function of the number of data points.  \n",
    "The procedure uses the fact that this parameter controls the false positive rate $p_1$ — i.e., the probability of falsely reporting detection of a change point - and its complementary quantity $p_0 ≡ 1 − p_1$, the frequency with which the algorithm correctly rejects the presence of a change point. Therefore, $p_0$ is also the probability that a change point reported by the algorithm with this value of $\\text{ncp prior}$ is indeed statistically significant — hence we call it the correct detection rate for single change points. The desired $\\text{ncp prior} – p_0$ relationship is found through the following procedure: generate a synthetic pure noise time series; apply the algorithm for a range of $\\text{ncp prior}$; select the smallest value that yields false detection frequency equal or less than the desired rate, such as $0.05$.\n",
    "\n",
    "This process gives no exact formulas, but rather fits to the numerical simulations. The results for different types of likelihoods and data modes are given in the following section ([Sec. 2.2](#theory_data))."
   ]
  },
  {
   "cell_type": "markdown",
   "metadata": {},
   "source": [
    "### 2.2. Data Modes <a name=\"theory_data\"></a>\n",
    "\n",
    "The algorithms can be used with a variety of types of data, often called *data modes*."
   ]
  },
  {
   "cell_type": "markdown",
   "metadata": {},
   "source": [
    "#### 2.2.1 Event Data <a name=\"theory_data_events\"></a>\n",
    "\n",
    "For series of times of discrete events it is natural to associate one data cell with each event. The following derivation of the appropriate block fitness will elucidate exactly what information the cells must contain to allow evaluation of the fitness for the full multi-block model.\n",
    "\n",
    "In practice the event times are integer multiples of some small unit, but it is often convenient to treat them as real numbers on a continuum. For example, the fitness function is easily obtained starting with the unbinned likelihood known as the Cash statistic. If $M\\left(t,\\theta\\right)$ is a model of the time dependence of a signal the unbinned loglikelihood is\n",
    "\n",
    "$$ \\log L \\left( \\theta \\right) = \\sum_n \\log M\\left(t_n,\\theta\\right) - \\int M\\left(t,\\theta\\right)dt$$\n",
    "\n",
    "where the sum is over the events and $\\theta$ represents the model parameters. The integral is calculated over the observation interval and represents the expected number of events according to the model. In our block model, which is constant and has a single parameter, we can define $M\\left(t,\\lambda\\right) = \\lambda$. Consequently, for block k, the log-likelihood can be written as:\n",
    "\n",
    "$$ \\log L^{\\left(k\\right)}\\left(\\lambda\\right)=N^{\\left(k\\right)}\\log\\lambda - \\lambda T^{\\left(k\\right)}$$\n",
    "\n",
    "where $N\\left(k\\right)$ is the number of events in block k and $T\\left(k\\right)$ is the length of the block. The maximum of this likelihood is at $\\lambda = \\frac{N\\left(k\\right)}{T\\left(k\\right)}$, yielding\n",
    "\n",
    "$$ \\log L_{max}^{\\left( k\\right)} + N^{\\left(k\\right)} = N^{\\left(k\\right)}\\left( \\log N^{\\left(k\\right)} - \\log T^{\\left(k\\right)} \\right)$$\n",
    "\n",
    "The term N(k) is taken to the left side because its sum over the blocks is a constant (N, the total number of events) that is model-independent and therefore irrelevant. Additionally, note that changing the units of time, e.g., using a scale factor $\\alpha$, modifies the log-likelihood by $ −N^{\\left(k\\right)} log\\left(\\alpha\\right)$. However, this change is also irrelevant due to the same reason.\n",
    "\n",
    "Interestingly, the actual positions of the independent events within their blocks do not affect the results. The fitness function solely depends on the number of events in the block, disregarding their specific locations or the intervals between them. This outcome directly arises from the nature of the underlying independently distributed or Poisson process.\n",
    "\n",
    "The simulations for the calibration of $\\text{ncp prior}$ were successfully fitted to the following formula:\n",
    "\n",
    "$$ \\text{ncp prior} = 4 -\\log \\left(73.53p_0N^{-0.478} \\right)$$"
   ]
  },
  {
   "cell_type": "markdown",
   "metadata": {},
   "source": [
    "#### 2.2.2 Binned Data <a name=\"theory_data_binned\"></a>\n",
    "\n",
    "The expected count in a bin is calculated as the product of three factors: the true event rate at the detector ($\\lambda$), a dimensionless exposure factor ($e$), and the width of the bin ($W$). Therefore, the likelihood for bin $n$ follows a Poisson distribution:\n",
    "\n",
    "$$L_n=\\frac{\\left(\\lambda e_n W_n\\right)^{N_n}e^{-\\lambda e_n W_n}}{N_n!}$$\n",
    "\n",
    "In this equation, $N_n$ represents the number of events in bin $n$, $\\lambda$ is the actual event rate in PDF per unit time, $e_n$ is the exposure averaged over the bin, and $W_n$ is the bin width in time units. The likelihood for block $k$ is the product of the likelihoods of all its bins:\n",
    "\n",
    "$$ L^{\\left( k \\right)} \\prod^{M^{\\left( k \\right)}}_{n=1} L_n = \\lambda^{N^{\\left( k \\right)}}e^{-ew^{\\left( k \\right)}}$$\n",
    "\n",
    "Here, $M^{\\left(k\\right)}$ represents the number of bins in block $k$, and $w^{\\left( k \\right)}$ is the sum of the bin efficiencies in the block, given by $\\sum^{M^{\\left( k \\right)}}_{n=1}w_n$. Additionally, $N^{\\left( k \\right)}$ is the total event count in the block, represented by $\\sum^{M^{\\left( k \\right)}}_{n=1}N_n$.\n",
    "\n",
    "The factor $\\frac{\\left(e_n W_n\\right)^{N_n}}{N_n!}$ has been discarded because its product over all the bins in all the blocks is a constant (depending on the data only) and therefore irrelevant to model fitness. The log-likelihood is\n",
    "\n",
    "$$ \\log L^{\\left( k\\right)} = N^{\\left(k\\right)}\\log \\lambda- \\lambda w^{\\left( k \\right)}$$\n",
    "\n",
    "This log-likelihood is identical to that of event data, where $w^{\\left( k \\right)}$ plays the role of $T^{\\left(k\\right)}$, acting as an effective block duration.\n",
    "\n",
    "It is worth noting that unbinned and binned event data share the same fitness function, with the main difference being that each bin of binned data can contain multiple events. To account for this, a weight parameter can be assigned to each bin, with a value of one when considering unbinned data.\n",
    "\n",
    "Simulations show that for binned data, the optimal $\\text{ncp prior}$ is not sensitive to $p_0$."
   ]
  },
  {
   "cell_type": "markdown",
   "metadata": {},
   "source": [
    "#### 2.2.3 Point Measurements <a name=\"theory_data_measurements\"></a>\n",
    "\n",
    "An often encountered experimental setup involves the measurement of a signal, denoted as $s(t)$, at a series of time instances $t_n \\,\\,\\, n = 1,2,...,N$, with the aim of understanding its temporal behavior. \n",
    "\n",
    "In our analysis, the observation times $t_n$ collectively form the sampling, which can be selected arbitrarily, either as evenly spaced points or in a different manner. Additionally, we explicitly assume that the measurements taken at these times are statistically independent of one another, meaning that the observation errors are independent.\n",
    "\n",
    "The observational error at a specific time $t_n$ is characterized solely by its statistical distribution. Let's consider the case where the errors follow a normal probability distribution with a mean of zero and a given variance. If the model signal is a constant value $s = \\lambda$, the likelihood of obtaining measurement $n$ is given by:\n",
    "\n",
    "$$ L_n = \\frac{1}{\\sigma_n \\sqrt{2\\pi}}e^{-\\frac{1}{2}\\left(\\frac{x_n-\\lambda}{\\sigma_n}\\right)^2}$$\n",
    "\n",
    "As we assume independence among the measurements, the likelihood for block $k$ can be expressed as the product of individual likelihoods:\n",
    "\n",
    "$$ L^{\\left( k \\right)} = \\prod_n L_n$$\n",
    "\n",
    "where $n$ represents the indices corresponding to the times $t_n$ falling within block $k$.\n",
    "\n",
    "The maximum value of the log-likelihood corresponding to block $k$ is the following:\n",
    "\n",
    "$$\\log L^{\\left(k\\right)}_{max} =-\\frac{1}{2}\\left[ 2c_k-\\frac{b_k^2}{2a_k}\\right]$$\n",
    "\n",
    "Here, the terms $a_k$, $b_k$, and $c_k$ are defined as:\n",
    "\n",
    "$$ a_k = \\frac{1}{2}\\sum_n\\frac{1}{\\sigma^2_n}$$\n",
    "$$ b_k =-\\sum_n\\frac{x_n}{\\sigma^2_n}$$\n",
    "$$ c_k =\\frac{1}{2}\\sum_n\\frac{x_n^2}{\\sigma^2_n}$$\n",
    "\n",
    "By neglecting the first term, which is quadratic in $x$ and sums to a constant independent of the model, we arrive at the simplified expression:\n",
    "\n",
    "$$\\log L^{\\left(k\\right)}_{max} =\\frac{b_k^2}{4a_k}$$\n",
    "\n",
    "The simulations for the calibration of $\\text{ncp prior}$ were successfully fitted to the following formula:\n",
    "\n",
    "$$\\text{ncp prior} = 1.32 + 0.577\\cdot\\text{log}\\left(N\\right)$$\n",
    "\n",
    "Importantly, this relationship remains unaffected by the signal-to-noise ratio in the simulations."
   ]
  },
  {
   "cell_type": "markdown",
   "metadata": {},
   "source": [
    "## 2. Algorithm <a name=\"algorithm\"></a>"
   ]
  },
  {
   "cell_type": "markdown",
   "metadata": {},
   "source": [
    "### 2.1. Algorithm Description <a name=\"alg_description\"></a>\n",
    "\n",
    "We will follow a **dynamic programming** approach. Beginning with the first data cell, at each step one more cell is added using the results of the previous steps: the value of optimal fitness is stored in the array *best* and the location of the last change point in the array *last*.\n",
    "\n",
    "Let $\\mathcal{P}^{opt}(R)$ denote the optimal partition of the first $R$ cells. In the starting case $R = 1$, the only possible partition (one block consisting of the first cell by itself) is trivially optimal. Now assume we have completed step $R$: it remains to show how to obtain $\\mathcal{P}^{opt}(R+1)$.  \n",
    "For some $r$ consider the set of all partitions (of these first R+1 cells) whose last block starts with cell $r$ (and by definition ends at R + 1) and denote the fitness of this last block by $F(r)$. The only member of this set that could possibly be optimal is that consisting of $\\mathcal{P}^{opt}(r-1)$ followed by this last block. By the additivity of the Likelihood the fitness of said partition is the sum of $F(r)$ and the fitness of $\\mathcal{P}^{opt}(r-1)$ (saved from a previous step in *best*):\n",
    "\n",
    "$$ \n",
    "A(r) = F(r) + \n",
    "\\begin{cases}\n",
    "    0, & r = 1\\\\\n",
    "    best(r - 1), & r = 2, 3, . . . , R + 1\n",
    "\\end{cases}\n",
    "$$\n",
    "\n",
    "The value of $r$ yielding the optimal partition $\\mathcal{P}^{opt}(R+1)$ is the value maximizing $A(r)$:\n",
    "\n",
    "$$\n",
    "r^{opt} = argmax[A(r)]\n",
    "$$\n",
    "\n",
    "\n",
    "At the end of this computation, when $R = N$, it only remains to find the locations of the change points of the optimal partition. The needed information is contained in the array *last*: we use the last value in this array to determine the last change point in $\\mathcal{P}^{opt}(N)$, peel off the end section of last corresponding to this last block, and repeat:\n",
    "\n",
    "$$\n",
    "cp1 = last(N) \\\\\n",
    "cp2 = last(cp1 − 1) \\\\\n",
    "cp3 = last(cp2 − 1) \\\\\n",
    "...\n",
    "$$"
   ]
  },
  {
   "cell_type": "markdown",
   "metadata": {},
   "source": [
    "### 2.2. Code Implementation <a name=\"alg_implementation\"></a>\n",
    "\n",
    "Here is the R code implementing the algorithm:"
   ]
  },
  {
   "cell_type": "code",
   "execution_count": 3,
   "metadata": {
    "vscode": {
     "languageId": "r"
    }
   },
   "outputs": [],
   "source": [
    "bayesian_blocks <- function(data,\n",
    "                            weights = NULL,\n",
    "                            Prior = \"calibrated\",\n",
    "                            p0 = 0.05,\n",
    "                            gamma = NULL) {\n",
    "    # Bayesian Blocks Implementation.\n",
    "\n",
    "    # This is a flexible implementation of the Bayesian Blocks algorithm for 1 dimension.\n",
    "\n",
    "    # Args:\n",
    "    #   data: Input data values (one dimensional, length N). Repeat values are allowed.\n",
    "\n",
    "    #   weights: Weights for data (otherwise assume all data points have a weight of 1).\n",
    "    #            Must be same length as data. Defaults to NULL.\n",
    "\n",
    "    #   prior: Prior on the number of blocks. Options include a uniform prior, a gemetric prior that\n",
    "    #          penalizes an excessive number of blocks and a calibrated prior in order to achieve the\n",
    "    #          specified false-positive rate p0. Deafults to the calibrated one. \n",
    "\n",
    "    #   p0: False-positive rate, between 0 and 1. A lower number places a stricter penalty\n",
    "    #       against creating more bin edges, thus reducing the potential for false-positive bin edges. In general,\n",
    "    #       the larger the number of bins, the small the p0 should be to prevent the creation of spurious, jagged\n",
    "    #       bins. Defaults to 0.05.\n",
    "\n",
    "    #   gamma: If specified, can use this gamma to compute the general prior form,\n",
    "    #          p = gamma^N. Defaults to NULL.\n",
    "\n",
    "    # Returns:\n",
    "    #   Array containing the (N+1) bin edges\n",
    "\n",
    "    # Examples:\n",
    "    #   Unweighted data:\n",
    "\n",
    "    #   >>> d <- rnorm(n=100)\n",
    "    #   >>> bins <- bayesian_blocks(d, p0=0.01)\n",
    "\n",
    "    #   Unweighted data with repeats:\n",
    "\n",
    "    #   >>> d <- rnorm(n=100)\n",
    "    #   >>> d[81:100] <- d[1:20]\n",
    "    #   >>> bins <- bayesian_blocks(d, p0=0.01)\n",
    "\n",
    "    #   Weighted data:\n",
    "\n",
    "    #   >>> d <- rnorm(n=100)\n",
    "    #   >>> w <- runif(n=100, min=1, max=2)\n",
    "    #   >>> bins <- bayesian_blocks(d, w, p0=0.01)\n",
    "\n",
    "    \n",
    "    # validate input data\n",
    "    data <- as.vector(data)\n",
    "\n",
    "    # validate input weights\n",
    "    if (!is.null(weights)) {\n",
    "        weights <- as.vector(weights)\n",
    "    }\n",
    "    else {\n",
    "        # set them to 1 if not given\n",
    "        weights <- rep(1, length(data))\n",
    "    }\n",
    "\n",
    "    # Place data and weights into a DataFrame.\n",
    "    # We want to sort the data array (without losing the associated weights), and combine duplicate\n",
    "    # data points by summing their weights together.\n",
    "    df <- data.frame(data = data, weights = weights) |>\n",
    "          group_by(data) |>\n",
    "          summarise(sum_w = sum(weights))\n",
    "    data <- pull(df, data)\n",
    "    weights <- pull(df, sum_w)\n",
    "\n",
    "    N = length(data)\n",
    "\n",
    "\n",
    "    # create length-(N + 1) array of cell edges\n",
    "    edges <- c(data[1], 0.5 * (data[1:(N-1)] + data[2:N]), data[N])\n",
    "    block_length = data[N] - edges\n",
    "\n",
    "\n",
    "    # arrays to store the best configuration\n",
    "    best <- rep(0, N)\n",
    "    last <- rep(0, N)\n",
    "\n",
    "\n",
    "    # compute prior\n",
    "    prior <- switch(Prior, \n",
    "                    \"uniform\" = 0,\n",
    "                    \"gamma\" = -log(gamma),\n",
    "                    \"calibrated\" = 4 - log(73.53 * p0 * N**(-0.478)),\n",
    "                    0 # default case\n",
    "             )\n",
    "\n",
    "\n",
    "    # -----------------------------------------------------------------\n",
    "    # Start with first data cell; add one cell at each iteration\n",
    "    # -----------------------------------------------------------------\n",
    "    \n",
    "    for (R in 1:N) {\n",
    "        # Compute fit_vec : fitness of putative last block (ends at data cell R/edge R+1)\n",
    "\n",
    "        # T_k: width/duration of each block\n",
    "        T_k <- block_length[1:R] - block_length[R+1]\n",
    "\n",
    "        # N_k: number of elements in each block\n",
    "        N_k <- rev(cumsum(rev(weights[1:R])))\n",
    "\n",
    "        # evaluate fitness function using Cash statistics\n",
    "        fit_vec <- N_k * log(N_k / T_k)\n",
    "\n",
    "        # penalize function with prior\n",
    "        A_R <- fit_vec - prior\n",
    "        if(R > 1) {\n",
    "            A_R[2:R] <- A_R[2:R] + best[1:(R-1)]\n",
    "        }\n",
    "        i_max = which.max(A_R)\n",
    "        last[R] = i_max\n",
    "        best[R] = A_R[i_max]\n",
    "    }\n",
    "\n",
    "    # -----------------------------------------------------------------\n",
    "    # Now find changepoints by iteratively peeling off the last block\n",
    "    # -----------------------------------------------------------------\n",
    "\n",
    "    change_points = rep(0, N+1)\n",
    "    i_cp = N + 1\n",
    "    ind = N + 1\n",
    "    repeat {\n",
    "        change_points[i_cp] <- ind\n",
    "        if(ind == 1) {\n",
    "            break\n",
    "        }\n",
    "        ind <- last[ind-1]\n",
    "        i_cp <- i_cp - 1\n",
    "    }\n",
    "    change_points = change_points[i_cp:(N+1)]\n",
    "\n",
    "    return(edges[change_points])\n",
    "}"
   ]
  },
  {
   "cell_type": "markdown",
   "metadata": {},
   "source": [
    "### 2.1 Execution Time <a name=\"alg_time\"></a>\n",
    "\n",
    "The total number of possible partitions (i.e., the number of ways N cells can be arranged in blocks) is $2^N$, rendering an explicit exhaustive search of partition space impossible in the general case. This algorithm, instead, is able to find the optimal partition in time of order $O(N^2)$, and is practical even for $N ∼ 1,000,000$, for which approximately $10^{300,000}$ partitions are possible.  \n",
    "\n",
    "We will verify this scaling law by computing the execution time of the algorithm over datasets of increasing size over different order of magnitude. For simplicity, the data is generated form a Normal distribution ${\\mathcal {N}}(0, 1)$."
   ]
  },
  {
   "cell_type": "code",
   "execution_count": null,
   "metadata": {
    "vscode": {
     "languageId": "r"
    }
   },
   "outputs": [],
   "source": [
    "# Test execution time\n",
    "compute_time <- Vectorize(function(N, func, time_unit = \"sec\", seed = 48) {\n",
    "    # create dummy dataset\n",
    "    set.seed(seed)\n",
    "    data <- rnorm(N, mean = 0, sd = 1)\n",
    "\n",
    "    # start clock\n",
    "    start <- Sys.time()\n",
    "\n",
    "    func(data)\n",
    "\n",
    "    # end clock\n",
    "    end <- Sys.time()\n",
    "    exec_time <- as.numeric(difftime(end, start, units = time_unit))\n",
    "    return(exec_time)\n",
    "}, vectorize.args = \"N\") \n",
    "\n",
    "\n",
    "# Compute execution time over different ranges\n",
    "N1 <- c(1e2, 1e3, 2e3, 3e3, 4e3, 5e3, 6e3, 7e3, 8e3, 9e3, 1e4)\n",
    "N2 <- c(1e3, round(sqrt(1e7)), 1e4, round(sqrt(1e9)), 1e5)\n",
    "\n",
    "exec_time1 <- compute_time(N1, bayesian_blocks)\n",
    "exec_time2 <- compute_time(N2, bayesian_blocks)\n",
    "\n",
    "\n",
    "# Quadratic model fit\n",
    "fit_data1 <- data.frame(x = N1, x2 = N1**2, y = exec_time1)\n",
    "fit_data2 <- data.frame(x = N2, x2 = N2**2, y = exec_time2)"
   ]
  },
  {
   "cell_type": "code",
   "execution_count": null,
   "metadata": {
    "vscode": {
     "languageId": "r"
    }
   },
   "outputs": [],
   "source": [
    "# plot results\n",
    "\n",
    "fitted_func <- function(fit, x) {\n",
    "    res <- as.numeric(fit$coefficients[\"(Intercept)\"]) +\n",
    "           as.numeric(fit$coefficients[\"x\"]) * x +\n",
    "           as.numeric(fit$coefficients[\"x2\"]) * x**2\n",
    "    return(res)\n",
    "}\n",
    "\n",
    "par(mfrow = c(1, 2))\n",
    "options(repr.plot.width=16, repr.plot.height=8)\n",
    "\n",
    "plot(N1, exec_time1, xlab = \"N\", ylab = \"Execution Time [s]\", col = \"blue\", pch = 10, lwd = 3)\n",
    "grid()\n",
    "curve(fitted_func(fit1, x), N1[1], N1[length(N1)],\n",
    "      col = \"red\", lw = 2, add = T)\n",
    "legend(\"topleft\", inset=+0.1, legend = c(\"Points\", \"Quadratic Fit\"),\n",
    "      col = c(\"blue\",\"red\"), lty = c(NA, 1), pch = c(10, NA), lwd = c(3, 2),\n",
    "      cex = 0.9, box.lty = 0, border = F)\n",
    "\n",
    "plot(N2, exec_time2, xlab = \"N\", ylab = \"Execution Time [s]\", col = \"blue\", pch = 10, lwd = 3, log = \"xy\")\n",
    "grid()\n",
    "curve(fitted_func(fit2, x), N2[1], N2[length(N2)],\n",
    "      col = \"red\", lw = 2, add = T)\n",
    "legend(\"topleft\", inset=+0.1, legend = c(\"Points\", \"Quadratic Fit\"),\n",
    "      col = c(\"blue\",\"red\"), lty = c(NA, 1), pch = c(10, NA), lwd = c(3, 2),\n",
    "      cex = 0.9, box.lty = 0, border = F)"
   ]
  },
  {
   "cell_type": "markdown",
   "metadata": {},
   "source": [
    "As expected, the data points follow a quadratic distribution quite nicely, with some slight deviations at lower $N$ for linear and constant effects."
   ]
  },
  {
   "cell_type": "markdown",
   "metadata": {},
   "source": [
    "## 3. Comparison with Other Binning Methods <a name=\"comparison\"></a>\n",
    "\n",
    "Other objective methods have been proposed to determine binning according to some optimization procedure.\n",
    "We will now compare the Bayesian Block algorithm with the following:\n",
    "\n",
    "- Square root: $K = \\lceil \\sqrt{N} \\, \\rceil$\n",
    "- Scott: $h = \\frac{\\hat{\\sigma}}{N^{1/2}}$, where $\\hat{\\sigma}$ is the standard deviation of the data [[3]](#Scott) \n",
    "- Sturges: $K = \\lceil ln(N) \\rceil + 1$  [[4]](#Sturges)\n",
    "- Freedman-Diaconis: $h = 2 \\frac{IQRi}{N^{1/3}}$, where $IQR$ is the interquartile range of the data  [[5]](#FreedmanDiaconis)\n",
    "\n",
    "where $K$ is the number of bins and $h$ is their width."
   ]
  },
  {
   "cell_type": "markdown",
   "metadata": {},
   "source": [
    "### 3.1. Metrics <a name=\"comp_metrics\"></a>\n",
    "\n",
    "In order to quantitavely compare different methods we will use two metrics, introduced by **Pollack**. [[2]](#Pollack)\n"
   ]
  },
  {
   "cell_type": "markdown",
   "metadata": {},
   "source": [
    "#### 3.1.1. Wiggles Metric <a name=\"comp_metrics_wiggle\"></a>\n",
    "\n",
    "This metric is designed to capture the visual appeal of the histogram by minimizing the number of bin-to-bin height fluctuations, hereafter referred to as \"wiggles\", that denote unwanted statistical fluctuations. The number of wiggles in a histogram is defined as:\n",
    "\n",
    "$$ W_n = \\sum \\left[ sgn \\left( f'\\left(B_i \\right) \\right) \\cdot sgn \\left( f'\\left(B_{i+1} \\right) \\right) = -1 \\right]$$\n",
    "\n",
    "where $f'\\left(B_i \\right)$ is the finite first derivative of the function describing the height of block (or bin) $i$.\n",
    "\n",
    "This metric simply PDF the number of adjacent opposite-sign first derivatives and increases whene there are many fluctuations in height form one to another.\n"
   ]
  },
  {
   "cell_type": "code",
   "execution_count": 3,
   "metadata": {
    "vscode": {
     "languageId": "r"
    }
   },
   "outputs": [],
   "source": [
    "Wiggle <- function(data, breaks, numBlock) {\n",
    "    histogram <- hist(data, breaks = breaks, plot = FALSE)\n",
    "\n",
    "    bin_counts <- histogram$counts\n",
    "    post_Wiggling <- bin_counts[numBlock+1] - bin_counts[numBlock]\n",
    "    return(post_Wiggling)\n",
    "}\n",
    "\n",
    "\n",
    "Wiggle_metric <- function(data, breaks) {\n",
    "  \n",
    "    # Wiggle metric Implementation.\n",
    "    #\n",
    "    # Args:\n",
    "    #   data: Input data values (one dimensional, length N). Repeat values are allowed.\n",
    "    #\n",
    "    #   breaks: Sequence of change points or bin edges fro the input data\n",
    "    #\n",
    "    # Returns:\n",
    "    #   W_n, the metric computation\n",
    "    #\n",
    "  \n",
    "    numBlocks <- length(breaks) - 1\n",
    "  \n",
    "    W_n <- 0\n",
    "    for (i in 1:(numBlocks-2)) {\n",
    "        f.prime_B1 <- Wiggle(data, breaks, i)\n",
    "        f.prime_B2 <- Wiggle(data, breaks, i+1)\n",
    "    \n",
    "        prod <- sign(f.prime_B1)*sign(f.prime_B2)\n",
    "        if (prod < 0) {\n",
    "            W_n <- W_n + 1\n",
    "        }\n",
    "      }\n",
    "  return(W_n)\n",
    "}\n"
   ]
  },
  {
   "cell_type": "markdown",
   "metadata": {},
   "source": [
    "#### 3.1.2. Average Error Metric <a name=\"comp_metrics_avgerror\"></a>\n",
    "\n",
    "This metric measures the accuracy of a given histogram in reconstructing the underlying pdf, while minimizing the impact of statistical fluctuations due to the initial data used to generate the histogram.\n",
    "\n",
    "Consider a dataset that consists of N independent events such that $D = \\{ d_i\\}_{i=1,...,N}$. From it construct a histogram which allows to generate a new dataset $\\hat{D}$, where each point is generated by a linear interpolation of each bin. This can be done by considering each bin $i$ and extracting for each of them $n_i$ equally spaced points, where $n_i$ is equal to the height of the bin. Thus $\\hat{D}$ is equal in size to the original data, but evenly distributed within each respective bin.\n",
    "\n",
    "Then one can compare the interpolated dataset with M different independent datasets, all of which are derived from the original distribution and have size N. We can use these datasets to construct the average metric error, defined as:\n",
    "\n",
    "$$ \\hat{E} = \\frac{1}{M}\\sum^M_{m=1} \\left(\\sum^N_{n=1} |d_{nm}-\\hat{d}_n|\\right) $$\n",
    "\n",
    "where $d_{nm}$ is the n-th data point from the m-th data set.\n",
    "\n",
    "This metric typically decreases as the size of the bins decreases, but in general does not approach 0 as the bins become infinitesimally narrow. The metric penalizes a histogram for modeling the statistical fluctuations of a given distribution by comparing the interpolated data with statistically independent datasets and not the dataset used to generate the histogram."
   ]
  },
  {
   "cell_type": "code",
   "execution_count": 22,
   "metadata": {
    "vscode": {
     "languageId": "r"
    }
   },
   "outputs": [],
   "source": [
    "Average_metric <- function(data, breaks, distribution, M=20, ...) {\n",
    "\n",
    "    # Average_metric Implementation.\n",
    "    #\n",
    "    # Args:\n",
    "    #   data: Input data values (one dimensional, length N). Repeat values are allowed.\n",
    "    #\n",
    "    #   breaks: Sequence of change points or bin edges fro the input data\n",
    "    #\n",
    "    #   distribution: underlying distributionused to generate toy dataset\n",
    "    #\n",
    "    #   M: number of independent toy dataset generated\n",
    "    #\n",
    "    #   ...: arguments to generate underlying distribution\n",
    "    #\n",
    "    # Returns:\n",
    "    #   E_hat\n",
    "    #\n",
    "  \n",
    "    histogram <- hist(data, breaks = breaks, plot = FALSE)\n",
    "  \n",
    "    numBlocks <- length(breaks)-1\n",
    "    bin_counts <- histogram$counts\n",
    "    \n",
    "    hat_data <- c()\n",
    "    for (i in 1:numBlocks) {\n",
    "        points <- seq(breaks[i], breaks[i+1], length.out=bin_counts[i])\n",
    "        hat_data <- c(hat_data, points)\n",
    "    }\n",
    "  \n",
    "    N <- length(data)\n",
    "    Mdata <- matrix(nrow = N, ncol = M)\n",
    "  \n",
    "    for(i in 1:M) {\n",
    "        Mdata[,i] <- distribution(N, ...)\n",
    "    }\n",
    "  \n",
    "    E_hat <- 0\n",
    "    for (m in 1:M) {\n",
    "        for(n in 1:N) {\n",
    "            E_hat <- E_hat + abs(Mdata[n,m] - hat_data[n])\n",
    "        }\n",
    "    }\n",
    "  \n",
    "    E_hat <- E_hat/M\n",
    "  \n",
    "    return(E_hat)\n",
    "}"
   ]
  },
  {
   "cell_type": "markdown",
   "metadata": {},
   "source": [
    "### 3.2. Results <a name=\"comp_results\"></a>"
   ]
  },
  {
   "cell_type": "markdown",
   "metadata": {},
   "source": [
    "#### 3.2.1. Note on the Uniform Prior\n",
    "\n",
    "In the following analysis we will not show the Bayesian Blocks algorithm using a uniform prior. In fact, since the result is not penalised for a high number of blocks, it always divides each data cell into a block of its own., so that the final result is nonsensical.\n",
    "\n",
    "As an example, here is the result of thealgorithm on a Normal distribution ${\\mathcal {N}}(0, 1)$:"
   ]
  },
  {
   "cell_type": "code",
   "execution_count": 4,
   "metadata": {},
   "outputs": [
    {
     "data": {
      "image/png": "[encoded data removed]",
      "text/plain": [
       "Plot with title \"Bayesian Block (uniform prior)\""
      ]
     },
     "metadata": {
      "image/png": {
       "height": 360,
       "width": 540
      }
     },
     "output_type": "display_data"
    }
   ],
   "source": [
    "data <- rnorm(5000)\n",
    "uniform_breaks <- bayesian_blocks(data, Prior=\"uniform\")\n",
    "\n",
    "# plot results\n",
    "options(repr.plot.width = 9, repr.plot.height=6)\n",
    "hist(data, breaks = uniform_breaks, col = \"lightblue\", border = \"black\",\n",
    "     xlab = \"Data\", ylab = \"PDF\", main = sprintf(\"Bayesian Block (uniform prior)\"))"
   ]
  },
  {
   "cell_type": "markdown",
   "metadata": {},
   "source": [
    "#### 3.2.2. Custom Distributions\n",
    "\n",
    "\n",
    "We will compare the binning methods on different distributions defined ad-hoc to simulate some kind of physical process. The first one has three gaussian peaks over a uniform background, and the two left peaks are slightly overlapping. The second one has a gaussian peak over an exponential background."
   ]
  },
  {
   "cell_type": "code",
   "execution_count": 100,
   "metadata": {
    "vscode": {
     "languageId": "r"
    }
   },
   "outputs": [],
   "source": [
    "# 3 gaussian peaks over uniform background\n",
    "three_peaks <- function(N) {\n",
    "    u <- runif(N)\n",
    "    data <- ifelse(u < 8/15, rnorm(N, 500, 30),\n",
    "                            ifelse(u < 0.7, runif(N, 0, 1500),\n",
    "                                            ifelse(u < 13/15, rnorm(N, 1000, 50),\n",
    "                                                              rnorm(N, 425, 20))))\n",
    "}\n",
    "\n",
    "# gaussian peak over exponential background\n",
    "one_peak_exp_bkg <- function(N) {\n",
    "    u <- runif(N)\n",
    "    data <- ifelse(u < 0.85, rexp(N, 0.2),\n",
    "                            rnorm(N, 9, 1))\n",
    "}"
   ]
  },
  {
   "cell_type": "code",
   "execution_count": 47,
   "metadata": {
    "vscode": {
     "languageId": "r"
    }
   },
   "outputs": [],
   "source": [
    "plot_histo <- function(N, distribution) {\n",
    "     # generate data\n",
    "     data <- distribution(N)\n",
    "\n",
    "     # compute histograms breaks for the 6 methods\n",
    "     breaks_BB_cal   = bayesian_blocks(data, Prior=\"calibrated\", p0 = 0.05)\n",
    "     breaks_BB_gamma = bayesian_blocks(data, Prior=\"gamma\", gamma = 0.006)\n",
    "     breaks_sqrt     = seq(min(data), max(data), length.out=round(sqrt(N)))\n",
    "     breaks_scott    = hist(data, breaks = \"scott\",             plot = FALSE)$breaks\n",
    "     breaks_sturges  = hist(data, breaks = \"sturges\",           plot = FALSE)$breaks\n",
    "     breaks_fd       = hist(data, breaks = \"freedman-diaconis\", plot = FALSE)$breaks\n",
    "\n",
    "     break_list <- list(breaks_BB_cal, breaks_BB_gamma, breaks_sqrt,\n",
    "                        breaks_scott, breaks_sturges, breaks_fd)\n",
    "\n",
    "     # plot results\n",
    "     par(mfrow = c(2, 3))\n",
    "     options(repr.plot.width = 18, repr.plot.height=10)\n",
    "\n",
    "     hist(data, breaks = breaks_BB_cal, col = \"lightblue\", border = \"black\",\n",
    "          xlab = \"Data\", ylab = \"PDF\", main = sprintf(\"Bayesian Block (calibrated prior)\"))\n",
    "     hist(data, breaks = breaks_BB_gamma, col = \"salmon\", border = \"black\",\n",
    "          xlab = \"Data\", ylab = \"PDF\", main = sprintf(\"Bayesian Block (gamma=0.06 prior)\"))\n",
    "     hist(data, breaks = breaks_sqrt, col = \"palegreen\", border = \"black\", freq = FALSE,\n",
    "          xlab = \"Data\", ylab = \"PDF\", main = sprintf(\"Sqrt(N)\"))\n",
    "     hist(data, breaks = breaks_scott, col = \"pink\", border = \"black\", freq = FALSE,\n",
    "          xlab = \"Data\", ylab = \"PDF\", main = sprintf(\"Scott\"))\n",
    "     hist(data, breaks = breaks_sturges, col = \"plum3\", border = \"black\", freq = FALSE,\n",
    "          xlab = \"Data\", ylab = \"PDF\", main = sprintf(\"Sturges\"))\n",
    "     hist(data, breaks=breaks_fd, col = \"yellow\", border = \"black\", freq = FALSE,\n",
    "          xlab = \"Data\", ylab = \"PDF\", main = sprintf(\"Freedman-Diaconis\"))\n",
    "\n",
    "     return(break_list)\n",
    "}"
   ]
  },
  {
   "cell_type": "code",
   "execution_count": null,
   "metadata": {},
   "outputs": [],
   "source": [
    "scores<-function(data,p,gam,distribution,M=500)\n",
    "{\n",
    "    ##breaks\n",
    "    breaks_BB_cal   = bayesian_blocks(data, Prior=\"calibrated\", p0=p)\n",
    "    breaks_BB_gamma = bayesian_blocks(data, Prior=\"gamma\", gamma=gam)\n",
    "    breaks_sqrt     = hist(data,breaks=round(sqrt(length(data))),         plot = FALSE)$breaks\n",
    "    breaks_scott    = hist(data, breaks = \"scott\",             plot = FALSE)$breaks\n",
    "    breaks_sturges  = hist(data, breaks = \"sturges\",           plot = FALSE)$breaks\n",
    "    breaks_fd       = hist(data, breaks = \"freedman-diaconis\", plot = FALSE)$breaks\n",
    "  \n",
    "  \n",
    "    break_list <- list(breaks_BB_cal, breaks_BB_gamma,breaks_sqrt,breaks_scott, breaks_sturges, breaks_fd)\n",
    "  \n",
    "    methods<-c(\"BB_cal\",\"BB_gamma\",\"sqrt\",\"Scott\",\"Sturges\",\"FD\")\n",
    "    names(break_list)<-methods\n",
    "  \n",
    "    ##scores\n",
    "    columns <- c(\"Method\",\"W\",\"E\")\n",
    "    scores<-data.frame(matrix(nrow = 0, ncol = length(columns))) \n",
    "    colnames(scores)[1:3]<-columns\n",
    "  \n",
    "    for (met in methods)\n",
    "    {\n",
    "      W<-Wiggle_metric(data,unlist(break_list[met]))\n",
    "      E<-Average_metric(data,unlist(break_list[met]),distribution,M)\n",
    "      scores[nrow(scores) + 1,] <- c(met,W,E)\n",
    "    }\n",
    "  \n",
    "    scores$W<-as.numeric(scores$W)\n",
    "    scores$E<-as.numeric(scores$E)\n",
    "  \n",
    "    ##ranks\n",
    "    ranks<-data.frame(Method=methods,\n",
    "                    W=floor(rank((scores$W))),\n",
    "                    E=floor(rank((scores$E))))\n",
    "  \n",
    "    long_ranks<-pivot_longer(ranks, -c(Method), names_to = \"Metric\")\n",
    "  \n",
    "    ##plots\n",
    "    score.plot<-ggplot(scores,aes(x=E,y=W,color=Method))+\n",
    "        geom_point()+\n",
    "        theme_classic()+\n",
    "        scale_color_manual(values=c(\"lightblue\",\"salmon\",\"yellow\",\"pink\",\"plum3\",\"palegreen\"))+\n",
    "        labs(x=paste(expression(hat(E)), \" (Average metric)\"),y=\"W (Wiggle metric)\")\n",
    "  \n",
    "    rank.plot<-ggplot(long_ranks, aes(x = Method, y = value, fill= Metric)) +\n",
    "        theme_bw() +\n",
    "        geom_col(position = \"stack\")+\n",
    "        labs(x=\"Method\",y=\"Rank\")\n",
    "  \n",
    "    grid.arrange(score.plot,rank.plot,nrow=2)\n",
    "  \n",
    "  return(list(score=scores,rank=ranks))\n",
    "}"
   ]
  },
  {
   "cell_type": "code",
   "execution_count": 101,
   "metadata": {
    "vscode": {
     "languageId": "r"
    }
   },
   "outputs": [
    {
     "data": {
      "image/png": "[encoded data removed]",
      "text/plain": [
       "Plot with title \"Freedman-Diaconis\""
      ]
     },
     "metadata": {
      "image/png": {
       "height": 600,
       "width": 1080
      }
     },
     "output_type": "display_data"
    }
   ],
   "source": [
    "set.seed(12)\n",
    "breaks <- plot_histo(10000, three_peaks)"
   ]
  },
  {
   "cell_type": "code",
   "execution_count": null,
   "metadata": {},
   "outputs": [],
   "source": [
    "set.seed(12)\n",
    "result.list<-scores(three_peaks(10000),0.5,0.006,three_peaks,M=1000)"
   ]
  },
  {
   "cell_type": "code",
   "execution_count": 88,
   "metadata": {
    "vscode": {
     "languageId": "r"
    }
   },
   "outputs": [
    {
     "data": {
      "image/png": "[encoded data removed]",
      "text/plain": [
       "Plot with title \"Freedman-Diaconis\""
      ]
     },
     "metadata": {
      "image/png": {
       "height": 600,
       "width": 1080
      }
     },
     "output_type": "display_data"
    }
   ],
   "source": [
    "set.seed(12)\n",
    "breaks <- plot_histo(10000, one_peak_exp_bkg)"
   ]
  },
  {
   "cell_type": "code",
   "execution_count": null,
   "metadata": {},
   "outputs": [],
   "source": [
    "set.seed(12)\n",
    "result.list<-scores(one_peak_exp_bkg(10000),0.5,0.006,one_peak_exp_bkg,M=1000)"
   ]
  },
  {
   "cell_type": "markdown",
   "metadata": {},
   "source": [
    "## 4. Applications to Nuclear and Subnuclear Physics  <a name=\"applications\"></a>"
   ]
  },
  {
   "cell_type": "markdown",
   "metadata": {},
   "source": [
    "### 4.1. Radioactive Source <a name=\"app_radio\"></a>\n",
    "\n",
    "We will apply the algorithm to energy spectra measured by a $LaBr_3$ scintillator detector at INFN Legnaro laboratories. The following raioactive sources will be studied:\n",
    "\n",
    "- Cobalt-60\n",
    "- Cesium-137\n",
    "- Sodium-22"
   ]
  },
  {
   "cell_type": "code",
   "execution_count": 73,
   "metadata": {
    "vscode": {
     "languageId": "r"
    }
   },
   "outputs": [
    {
     "name": "stderr",
     "output_type": "stream",
     "text": [
      "\u001b[1mRows: \u001b[22m\u001b[34m700325\u001b[39m \u001b[1mColumns: \u001b[22m\u001b[34m2\u001b[39m\n",
      "\u001b[36m──\u001b[39m \u001b[1mColumn specification\u001b[22m \u001b[36m────────────────────────────────────────────────────────\u001b[39m\n",
      "\u001b[1mDelimiter:\u001b[22m \"\\t\"\n",
      "\u001b[32mdbl\u001b[39m (2): ADC_channel, Energy\n",
      "\n",
      "\u001b[36mℹ\u001b[39m Use `spec()` to retrieve the full column specification for this data.\n",
      "\u001b[36mℹ\u001b[39m Specify the column types or set `show_col_types = FALSE` to quiet this message.\n",
      "\u001b[1mRows: \u001b[22m\u001b[34m542364\u001b[39m \u001b[1mColumns: \u001b[22m\u001b[34m2\u001b[39m\n",
      "\u001b[36m──\u001b[39m \u001b[1mColumn specification\u001b[22m \u001b[36m────────────────────────────────────────────────────────\u001b[39m\n",
      "\u001b[1mDelimiter:\u001b[22m \"\\t\"\n",
      "\u001b[32mdbl\u001b[39m (2): ADC_channel, Energy\n",
      "\n",
      "\u001b[36mℹ\u001b[39m Use `spec()` to retrieve the full column specification for this data.\n",
      "\u001b[36mℹ\u001b[39m Specify the column types or set `show_col_types = FALSE` to quiet this message.\n",
      "\u001b[1mRows: \u001b[22m\u001b[34m572864\u001b[39m \u001b[1mColumns: \u001b[22m\u001b[34m2\u001b[39m\n",
      "\u001b[36m──\u001b[39m \u001b[1mColumn specification\u001b[22m \u001b[36m────────────────────────────────────────────────────────\u001b[39m\n",
      "\u001b[1mDelimiter:\u001b[22m \"\\t\"\n",
      "\u001b[32mdbl\u001b[39m (2): ADC_channel, Energy\n",
      "\n",
      "\u001b[36mℹ\u001b[39m Use `spec()` to retrieve the full column specification for this data.\n",
      "\u001b[36mℹ\u001b[39m Specify the column types or set `show_col_types = FALSE` to quiet this message.\n"
     ]
    }
   ],
   "source": [
    "# load dataset\n",
    "Co <- read_tsv(\"Data/Co10cm.txt\") |> filter(Energy < 1700) |> pull(\"Energy\")\n",
    "Cs <- read_tsv(\"Data/Cs10cm.txt\") |> filter(Energy < 1700) |> pull(\"Energy\")\n",
    "Na <- read_tsv(\"Data/Na10cm.txt\") |> filter(Energy < 1700) |> pull(\"Energy\")\n",
    "\n",
    "breaks_Co <- bayesian_blocks(Co)\n",
    "breaks_Cs <- bayesian_blocks(Cs)\n",
    "breaks_Na <- bayesian_blocks(Na)"
   ]
  },
  {
   "cell_type": "code",
   "execution_count": 74,
   "metadata": {
    "vscode": {
     "languageId": "r"
    }
   },
   "outputs": [
    {
     "data": {
      "image/png": "[encoded data removed]",
      "text/plain": [
       "Plot with title \"Na-22 : Scott\""
      ]
     },
     "metadata": {
      "image/png": {
       "height": 1260,
       "width": 960
      }
     },
     "output_type": "display_data"
    }
   ],
   "source": [
    "# plot results\n",
    "\n",
    "plot_spectra <- function(data, breaks, source) {\n",
    "     hist(data, breaks = breaks, col = \"lightblue\",  border = \"blue\",\n",
    "          xlab = \"Energy [KeV]\", ylab = \"PDF\", main = paste(source, \": Bayesian Blocks\"),\n",
    "          xaxt = 'n')\n",
    "     grid()\n",
    "     axis(side = 1, at = seq(0, 1700, 250), labels = seq(0, 1700, 250))\n",
    "     hist(data, breaks = \"scott\", col = \"salmon\",  border = \"red\",\n",
    "          xlab = \"Energy [KeV]\", ylab = \"PDF\", main = paste(source, \": Scott\"),\n",
    "          xaxt = 'n')\n",
    "     grid()\n",
    "     axis(side = 1, at = seq(0, 1700, 250), labels = seq(0, 1700, 250))\n",
    "}\n",
    "\n",
    "par(mfrow = c(3, 2))\n",
    "options(repr.plot.width = 16, repr.plot.height=21)\n",
    "\n",
    "plot_spectra(Co, breaks_Co, \"Co-60\")\n",
    "plot_spectra(Cs, breaks_Cs, \"Cs-137\")\n",
    "plot_spectra(Na, breaks_Na, \"Na-22\")"
   ]
  },
  {
   "cell_type": "markdown",
   "metadata": {},
   "source": [
    "### 4.2. Higgs Physics <a name=\"app_higgs\"></a>"
   ]
  },
  {
   "cell_type": "markdown",
   "metadata": {},
   "source": []
  },
  {
   "cell_type": "markdown",
   "metadata": {},
   "source": [
    "## 5. Bibliography <a name=\"bibliography\"></a>\n",
    "\n",
    "[1] J. D. Scargle et al.,\n",
    "    Astrophys. J. **764** (2013) 167\n",
    "    <a name=\"Scargle\"></a>\n",
    "\n",
    "[2] B. Pollack *et al.*,\n",
    "    [arXiv:1708.008 10](https://arxiv.org/abs/1708.00810)\n",
    "    <a name=\"Pollack\"></a>\n",
    "\n",
    "[3] D. W. Scott,\n",
    "    Biometrika **66**, 605 (1979).\n",
    "    <a name=\"Scott\"></a>\n",
    "\n",
    "[4] H. A. Sturges,\n",
    "    Journal of the American Statistical Association  **21**, 65 (1926),\n",
    "    https://doi.org/10.1080/01621459.1926.10502161.\n",
    "    <a name=\"Sturges\"></a>\n",
    "                                             \n",
    "[5] D. Freedman and P. Daiconis,\n",
    "    Zeitschrift fur Wahrscheinlichkeitstheorie und verwandte Gebiete **57**, 453 (1981).\n",
    "    <a name=\"FreedmanDiaconis\"></a>\n",
    "    \n",
    "[6] Coram, M. 2002, PhD thesis, Stanford University\n",
    "    <a name=\"Coram\"></a>\n"
   ]
  }
 ],
 "metadata": {
  "kernelspec": {
   "display_name": "R",
   "language": "R",
   "name": "ir"
  },
  "language_info": {
   "codemirror_mode": "r",
   "file_extension": ".r",
   "mimetype": "text/x-r-source",
   "name": "R",
   "pygments_lexer": "r",
   "version": "4.2.2"
  }
 },
 "nbformat": 4,
 "nbformat_minor": 2
}
